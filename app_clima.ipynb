{
 "cells": [
  {
   "cell_type": "code",
   "execution_count": 11,
   "metadata": {},
   "outputs": [
    {
     "data": {
      "text/plain": [
       "['clima_pipeline.joblib']"
      ]
     },
     "execution_count": 11,
     "metadata": {},
     "output_type": "execute_result"
    }
   ],
   "source": [
    "import numpy as np\n",
    "import pandas as pd\n",
    "from sklearn.model_selection import train_test_split\n",
    "from sklearn.linear_model import LogisticRegression\n",
    "from sklearn.impute import SimpleImputer\n",
    "from sklearn.preprocessing import StandardScaler\n",
    "from sklearn.pipeline import Pipeline\n",
    "from sklearn import datasets\n",
    "import joblib\n",
    "\n",
    "df = pd.read_csv(\"C:/Users/Usuario/Documents/tuia/aprendizaje automatico/Unidad 6_ MLOps/ejemplo-streamlit-iris/weatherAUS.csv\", delimiter=\",\")\n",
    "\n",
    "def FunctionTransformer(df):\n",
    "  dff=df.copy()\n",
    "  localidades = [\"SydneyAirport\", \"Sydney\", \"Canberra\", \"Melbourne\", \"MelbourneAirport\" ]\n",
    "\n",
    "  dff= dff[dff['Location'].isin(localidades)]\n",
    "  dff = dff.dropna(subset=['RainTomorrow', 'RainfallTomorrow'])\n",
    " \n",
    "  dff = df.drop('Location', axis=1)\n",
    "  def rellenar(t):\n",
    "      for columna in t.columns:\n",
    "\n",
    "          # Verifica si la columna tiene datos faltantes\n",
    "          if t[columna].isnull().any():\n",
    "\n",
    "              # Si es numérica y continua, rellena con el promedio\n",
    "              if pd.api.types.is_numeric_dtype(t[columna]) and not pd.api.types.is_integer_dtype(t[columna]):\n",
    "                  t[columna].fillna(t[columna].mean(), inplace=True)\n",
    "\n",
    "              # Si es numérica y discreta, rellena con la moda\n",
    "              elif pd.api.types.is_numeric_dtype(t[columna]):\n",
    "                  t[columna].fillna(t[columna].mode()[0], inplace=True)\n",
    "\n",
    "            # Si es categórica, rellena con la moda\n",
    "              else:\n",
    "                  t[columna].fillna(t[columna].mode()[0], inplace=True)\n",
    "\n",
    "      return t\n",
    "  dff = rellenar(dff)\n",
    "  dff =  dff.reset_index(drop = True)\n",
    "  columnas_categoricas = dff.select_dtypes(exclude='number').columns\n",
    "  le = LabelEncoder()\n",
    "  for categorica in columnas_categoricas:\n",
    "    dff[categorica] = le.fit_transform(dff[categorica])\n",
    "  dff = dff.replace([np.inf, -np.inf], 0)\n",
    "  dff.drop('Unnamed: 0', axis=1, inplace=True)\n",
    "  dff.drop('Date', axis=1, inplace=True)\n",
    "\n",
    "\n",
    "  return dff\n",
    "dff=FunctionTransformer(df)\n",
    "\n",
    "\n",
    "X = dff.drop(['RainTomorrow', 'RainfallTomorrow'], axis=1)\n",
    "y = dff['RainTomorrow']\n",
    "\n",
    "X_train, X_test, y_train, y_test = train_test_split(X, y, test_size=0.2, random_state=42)\n",
    "\n",
    "pipeline = Pipeline([\n",
    "    ('imputer', SimpleImputer(strategy='mean')),  # esto simplemente imputa por la media.\n",
    "    ('scaler', StandardScaler()),  # se realiza una estandarización.\n",
    "    ('model', LogisticRegression())  # se entrena un modelo de regresión lineal.\n",
    "])\n",
    "\n",
    "pipeline.fit(X_train, y_train)\n",
    "\n",
    "joblib.dump(pipeline, 'clima_pipeline.joblib')"
   ]
  }
 ],
 "metadata": {
  "kernelspec": {
   "display_name": "Python 3",
   "language": "python",
   "name": "python3"
  },
  "language_info": {
   "codemirror_mode": {
    "name": "ipython",
    "version": 3
   },
   "file_extension": ".py",
   "mimetype": "text/x-python",
   "name": "python",
   "nbconvert_exporter": "python",
   "pygments_lexer": "ipython3",
   "version": "3.10.11"
  }
 },
 "nbformat": 4,
 "nbformat_minor": 2
}
